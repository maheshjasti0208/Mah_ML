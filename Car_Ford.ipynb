{
  "nbformat": 4,
  "nbformat_minor": 0,
  "metadata": {
    "colab": {
      "name": "Untitled0.ipynb",
      "provenance": [],
      "toc_visible": true,
      "authorship_tag": "ABX9TyPeOW6+EegEeDKvFOI5SfNj",
      "include_colab_link": true
    },
    "kernelspec": {
      "name": "python3",
      "display_name": "Python 3"
    }
  },
  "cells": [
    {
      "cell_type": "markdown",
      "metadata": {
        "id": "view-in-github",
        "colab_type": "text"
      },
      "source": [
        "<a href=\"https://colab.research.google.com/github/maheshjasti0208/Mah_ML/blob/master/Car_Ford.ipynb\" target=\"_parent\"><img src=\"https://colab.research.google.com/assets/colab-badge.svg\" alt=\"Open In Colab\"/></a>"
      ]
    },
    {
      "cell_type": "code",
      "metadata": {
        "id": "_fV-YjxTHhP3",
        "colab_type": "code",
        "colab": {}
      },
      "source": [
        "import pandas as pd\n",
        "import matplotlib.pyplot as plt\n",
        "import numpy as np\n"
      ],
      "execution_count": 0,
      "outputs": []
    },
    {
      "cell_type": "code",
      "metadata": {
        "id": "z7h95crbHtyq",
        "colab_type": "code",
        "colab": {}
      },
      "source": [
        "dataset = pd.read_csv('data.csv')\n",
        "#X = dataset.iloc[:, :-1].values\n",
        "#y= dataset.iloc[:,-1].values\n"
      ],
      "execution_count": 0,
      "outputs": []
    },
    {
      "cell_type": "code",
      "metadata": {
        "id": "1Irj1Cobv8u0",
        "colab_type": "code",
        "colab": {
          "base_uri": "https://localhost:8080/",
          "height": 34
        },
        "outputId": "b9921cac-29bf-420f-8030-894c76a23c61"
      },
      "source": [
        "data_Ford = dataset[dataset['Make']=='Ford']\n",
        "print(data_Ford.shape)"
      ],
      "execution_count": 41,
      "outputs": [
        {
          "output_type": "stream",
          "text": [
            "(881, 16)\n"
          ],
          "name": "stdout"
        }
      ]
    },
    {
      "cell_type": "code",
      "metadata": {
        "id": "1x9c74i7wayR",
        "colab_type": "code",
        "colab": {
          "base_uri": "https://localhost:8080/",
          "height": 302
        },
        "outputId": "409e40aa-c7fd-4854-e468-2b715f4f4c91"
      },
      "source": [
        "print(data_Ford.isnull().sum())"
      ],
      "execution_count": 42,
      "outputs": [
        {
          "output_type": "stream",
          "text": [
            "Make                   0\n",
            "Model                  0\n",
            "Year                   0\n",
            "Engine Fuel Type       0\n",
            "Engine HP             13\n",
            "Engine Cylinders       0\n",
            "Transmission Type      0\n",
            "Driven_Wheels          0\n",
            "Number of Doors        0\n",
            "Market Category      382\n",
            "Vehicle Size           0\n",
            "Vehicle Style          0\n",
            "highway MPG            0\n",
            "city mpg               0\n",
            "Popularity             0\n",
            "MSRP                   0\n",
            "dtype: int64\n"
          ],
          "name": "stdout"
        }
      ]
    },
    {
      "cell_type": "code",
      "metadata": {
        "id": "NR4k5ls0wqqK",
        "colab_type": "code",
        "colab": {
          "base_uri": "https://localhost:8080/",
          "height": 302
        },
        "outputId": "c67f3cec-707d-45cb-c80c-0b4aebacc994"
      },
      "source": [
        "data_Ford = data_Ford.dropna()\n",
        "\n",
        "print(data_Ford.isnull().sum())"
      ],
      "execution_count": 43,
      "outputs": [
        {
          "output_type": "stream",
          "text": [
            "Make                 0\n",
            "Model                0\n",
            "Year                 0\n",
            "Engine Fuel Type     0\n",
            "Engine HP            0\n",
            "Engine Cylinders     0\n",
            "Transmission Type    0\n",
            "Driven_Wheels        0\n",
            "Number of Doors      0\n",
            "Market Category      0\n",
            "Vehicle Size         0\n",
            "Vehicle Style        0\n",
            "highway MPG          0\n",
            "city mpg             0\n",
            "Popularity           0\n",
            "MSRP                 0\n",
            "dtype: int64\n"
          ],
          "name": "stdout"
        }
      ]
    },
    {
      "cell_type": "code",
      "metadata": {
        "id": "EkHZnEhbxgmV",
        "colab_type": "code",
        "colab": {
          "base_uri": "https://localhost:8080/",
          "height": 195
        },
        "outputId": "6294bb65-783c-44fb-973e-d0fe5c127ff4"
      },
      "source": [
        "finaldata_Ford = data_Ford[['Engine HP','MSRP']]\n",
        "finaldata_Ford.sample(5)"
      ],
      "execution_count": 44,
      "outputs": [
        {
          "output_type": "execute_result",
          "data": {
            "text/html": [
              "<div>\n",
              "<style scoped>\n",
              "    .dataframe tbody tr th:only-of-type {\n",
              "        vertical-align: middle;\n",
              "    }\n",
              "\n",
              "    .dataframe tbody tr th {\n",
              "        vertical-align: top;\n",
              "    }\n",
              "\n",
              "    .dataframe thead th {\n",
              "        text-align: right;\n",
              "    }\n",
              "</style>\n",
              "<table border=\"1\" class=\"dataframe\">\n",
              "  <thead>\n",
              "    <tr style=\"text-align: right;\">\n",
              "      <th></th>\n",
              "      <th>Engine HP</th>\n",
              "      <th>MSRP</th>\n",
              "    </tr>\n",
              "  </thead>\n",
              "  <tbody>\n",
              "    <tr>\n",
              "      <th>4587</th>\n",
              "      <td>385.0</td>\n",
              "      <td>50580</td>\n",
              "    </tr>\n",
              "    <tr>\n",
              "      <th>4592</th>\n",
              "      <td>365.0</td>\n",
              "      <td>63025</td>\n",
              "    </tr>\n",
              "    <tr>\n",
              "      <th>10704</th>\n",
              "      <td>275.0</td>\n",
              "      <td>32420</td>\n",
              "    </tr>\n",
              "    <tr>\n",
              "      <th>4484</th>\n",
              "      <td>325.0</td>\n",
              "      <td>39610</td>\n",
              "    </tr>\n",
              "    <tr>\n",
              "      <th>4413</th>\n",
              "      <td>280.0</td>\n",
              "      <td>43675</td>\n",
              "    </tr>\n",
              "  </tbody>\n",
              "</table>\n",
              "</div>"
            ],
            "text/plain": [
              "       Engine HP   MSRP\n",
              "4587       385.0  50580\n",
              "4592       365.0  63025\n",
              "10704      275.0  32420\n",
              "4484       325.0  39610\n",
              "4413       280.0  43675"
            ]
          },
          "metadata": {
            "tags": []
          },
          "execution_count": 44
        }
      ]
    },
    {
      "cell_type": "code",
      "metadata": {
        "id": "IW-VIyL0x9we",
        "colab_type": "code",
        "colab": {}
      },
      "source": [
        "X = finaldata_Ford.iloc[:, :-1].values\n",
        "y= finaldata_Ford.iloc[:,-1].values\n"
      ],
      "execution_count": 0,
      "outputs": []
    },
    {
      "cell_type": "code",
      "metadata": {
        "id": "mC-3Ta3-JBgL",
        "colab_type": "code",
        "colab": {}
      },
      "source": [
        "from sklearn.model_selection import train_test_split\n",
        "X_train, X_test, y_train, y_test = train_test_split(X, y, test_size = 0.2, random_state = 0)"
      ],
      "execution_count": 0,
      "outputs": []
    },
    {
      "cell_type": "code",
      "metadata": {
        "id": "ejcQutQ3Jgnc",
        "colab_type": "code",
        "colab": {
          "base_uri": "https://localhost:8080/",
          "height": 34
        },
        "outputId": "eebff43d-be44-43c6-cd33-12795793d1a9"
      },
      "source": [
        "from sklearn.linear_model import LinearRegression\n",
        "regressor = LinearRegression()\n",
        "regressor.fit(X_train,y_train)"
      ],
      "execution_count": 49,
      "outputs": [
        {
          "output_type": "execute_result",
          "data": {
            "text/plain": [
              "LinearRegression(copy_X=True, fit_intercept=True, n_jobs=None, normalize=False)"
            ]
          },
          "metadata": {
            "tags": []
          },
          "execution_count": 49
        }
      ]
    },
    {
      "cell_type": "code",
      "metadata": {
        "id": "iD3xrbosKCPT",
        "colab_type": "code",
        "colab": {}
      },
      "source": [
        "y_pred = regressor.predict(X_test)"
      ],
      "execution_count": 0,
      "outputs": []
    },
    {
      "cell_type": "code",
      "metadata": {
        "id": "Y63814p2KgMR",
        "colab_type": "code",
        "colab": {
          "base_uri": "https://localhost:8080/",
          "height": 295
        },
        "outputId": "d5c9e743-6165-4d0e-82eb-1580749aff98"
      },
      "source": [
        "plt.scatter(X_train,y_train, color = 'red')\n",
        "#plt.scatter(X_train,regressor.predict(X_train),color = 'blue')\n",
        "plt.plot(X_train,regressor.predict(X_train),color = 'blue')\n",
        "plt.title('Engine HP vs MSRP(Training Set)')\n",
        "plt.xlabel('Engine HP')\n",
        "plt.ylabel('MSRP')\n",
        "plt.show()"
      ],
      "execution_count": 58,
      "outputs": [
        {
          "output_type": "display_data",
          "data": {
            "image/png": "[encoded data removed]",
            "text/plain": [
              "<Figure size 432x288 with 1 Axes>"
            ]
          },
          "metadata": {
            "tags": [],
            "needs_background": "light"
          }
        }
      ]
    },
    {
      "cell_type": "code",
      "metadata": {
        "id": "5_Cb5U-yMUzh",
        "colab_type": "code",
        "colab": {
          "base_uri": "https://localhost:8080/",
          "height": 295
        },
        "outputId": "92465b34-781f-41d4-ab25-40ff9ace1526"
      },
      "source": [
        "plt.scatter(X_test,y_test, color = 'red')\n",
        "#plt.scatter(X_train,regressor.predict(X_train),color = 'blue')\n",
        "plt.plot(X_train,regressor.predict(X_train),color = 'blue')\n",
        "plt.title('Engine HP vs MSRP(Test Set)')\n",
        "plt.xlabel('Engine HP')\n",
        "plt.ylabel('MSRP')\n",
        "plt.show()"
      ],
      "execution_count": 59,
      "outputs": [
        {
          "output_type": "display_data",
          "data": {
            "image/png": "[encoded data removed]",
            "text/plain": [
              "<Figure size 432x288 with 1 Axes>"
            ]
          },
          "metadata": {
            "tags": [],
            "needs_background": "light"
          }
        }
      ]
    },
    {
      "cell_type": "code",
      "metadata": {
        "id": "3EvhMO6nOl5Q",
        "colab_type": "code",
        "colab": {
          "base_uri": "https://localhost:8080/",
          "height": 34
        },
        "outputId": "1874a799-9f8a-4234-b615-69648315a523"
      },
      "source": [
        "print(regressor.predict([[385]]))"
      ],
      "execution_count": 57,
      "outputs": [
        {
          "output_type": "stream",
          "text": [
            "[45863.15214349]\n"
          ],
          "name": "stdout"
        }
      ]
    },
    {
      "cell_type": "code",
      "metadata": {
        "id": "CwJwOHObOwSA",
        "colab_type": "code",
        "colab": {
          "base_uri": "https://localhost:8080/",
          "height": 50
        },
        "outputId": "3dfa867b-61b8-4fa4-a5aa-d8b4033503b5"
      },
      "source": [
        "print(regressor.coef_)\n",
        "print(regressor.intercept_)"
      ],
      "execution_count": 55,
      "outputs": [
        {
          "output_type": "stream",
          "text": [
            "[110.21423222]\n",
            "3430.672737201541\n"
          ],
          "name": "stdout"
        }
      ]
    },
    {
      "cell_type": "markdown",
      "metadata": {
        "id": "yfFN-2AMYiKu",
        "colab_type": "text"
      },
      "source": [
        "Mean Absolute Error (MAE): It shows the mean of the absolute errors, which is the difference between predicted and actual.\n",
        "\n",
        "Mean Squared Error (MSE): It shows the mean value of squared errors.\n",
        "\n",
        "Root Mean Squared Error (RMSE): It shows the square root of the mean of the squared errors."
      ]
    },
    {
      "cell_type": "code",
      "metadata": {
        "id": "QI8qEmitZITB",
        "colab_type": "code",
        "colab": {
          "base_uri": "https://localhost:8080/",
          "height": 67
        },
        "outputId": "9043f7a6-d0f1-44cd-c23a-ff40a17c3a15"
      },
      "source": [
        "from sklearn import metrics\n",
        "print('MAE:', metrics.mean_absolute_error(y_test, y_pred))\n",
        "print('MSE:', metrics.mean_squared_error(y_test, y_pred))\n",
        "print('RMSE:', np.sqrt(metrics.mean_squared_error(y_test, y_pred)))"
      ],
      "execution_count": 56,
      "outputs": [
        {
          "output_type": "stream",
          "text": [
            "MAE: 6144.690505655172\n",
            "MSE: 87272610.25199108\n",
            "RMSE: 9341.981066775455\n"
          ],
          "name": "stdout"
        }
      ]
    }
  ]
}