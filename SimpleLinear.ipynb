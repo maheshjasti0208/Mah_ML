{
  "nbformat": 4,
  "nbformat_minor": 0,
  "metadata": {
    "colab": {
      "name": "Untitled0.ipynb",
      "provenance": [],
      "authorship_tag": "ABX9TyOeQS7XjedDZzAHOFUiy3WB",
      "include_colab_link": true
    },
    "kernelspec": {
      "name": "python3",
      "display_name": "Python 3"
    }
  },
  "cells": [
    {
      "cell_type": "markdown",
      "metadata": {
        "id": "view-in-github",
        "colab_type": "text"
      },
      "source": [
        "<a href=\"https://colab.research.google.com/github/maheshjasti0208/Mah_ML/blob/master/SimpleLinear.ipynb\" target=\"_parent\"><img src=\"https://colab.research.google.com/assets/colab-badge.svg\" alt=\"Open In Colab\"/></a>"
      ]
    },
    {
      "cell_type": "code",
      "metadata": {
        "id": "_fV-YjxTHhP3",
        "colab_type": "code",
        "colab": {}
      },
      "source": [
        "import pandas as pd\n",
        "import matplotlib.pyplot as plt\n",
        "import numpy as np\n"
      ],
      "execution_count": 0,
      "outputs": []
    },
    {
      "cell_type": "code",
      "metadata": {
        "id": "z7h95crbHtyq",
        "colab_type": "code",
        "colab": {}
      },
      "source": [
        "dataset = pd.read_csv('Salary_Data.csv')\n",
        "X = dataset.iloc[:, :-1].values\n",
        "y= dataset.iloc[:,-1].values\n"
      ],
      "execution_count": 0,
      "outputs": []
    },
    {
      "cell_type": "code",
      "metadata": {
        "id": "mC-3Ta3-JBgL",
        "colab_type": "code",
        "colab": {}
      },
      "source": [
        "from sklearn.model_selection import train_test_split\n",
        "X_train, X_test, y_train, y_test = train_test_split(X, y, test_size = 0.2, random_state = 0)"
      ],
      "execution_count": 0,
      "outputs": []
    },
    {
      "cell_type": "code",
      "metadata": {
        "id": "ejcQutQ3Jgnc",
        "colab_type": "code",
        "colab": {
          "base_uri": "https://localhost:8080/",
          "height": 34
        },
        "outputId": "4732a450-1716-4d66-8934-187d46f28743"
      },
      "source": [
        "from sklearn.linear_model import LinearRegression\n",
        "regressor = LinearRegression()\n",
        "regressor.fit(X_train,y_train)"
      ],
      "execution_count": 10,
      "outputs": [
        {
          "output_type": "execute_result",
          "data": {
            "text/plain": [
              "LinearRegression(copy_X=True, fit_intercept=True, n_jobs=None, normalize=False)"
            ]
          },
          "metadata": {
            "tags": []
          },
          "execution_count": 10
        }
      ]
    },
    {
      "cell_type": "code",
      "metadata": {
        "id": "iD3xrbosKCPT",
        "colab_type": "code",
        "colab": {}
      },
      "source": [
        "y_pred = regressor.predict(X_test)"
      ],
      "execution_count": 0,
      "outputs": []
    },
    {
      "cell_type": "code",
      "metadata": {
        "id": "Y63814p2KgMR",
        "colab_type": "code",
        "colab": {
          "base_uri": "https://localhost:8080/",
          "height": 295
        },
        "outputId": "e7dd7f55-aaec-44c4-d01c-dd69633724fb"
      },
      "source": [
        "plt.scatter(X_train,y_train, color = 'red')\n",
        "#plt.scatter(X_train,regressor.predict(X_train),color = 'blue')\n",
        "plt.plot(X_train,regressor.predict(X_train),color = 'blue')\n",
        "plt.title('Salary vs Experience(Training Set)')\n",
        "plt.xlabel('Years of Experience')\n",
        "plt.ylabel('Salary')\n",
        "plt.show()"
      ],
      "execution_count": 21,
      "outputs": [
        {
          "output_type": "display_data",
          "data": {
            "image/png": "[encoded data removed]",
            "text/plain": [
              "<Figure size 432x288 with 1 Axes>"
            ]
          },
          "metadata": {
            "tags": [],
            "needs_background": "light"
          }
        }
      ]
    },
    {
      "cell_type": "code",
      "metadata": {
        "id": "5_Cb5U-yMUzh",
        "colab_type": "code",
        "colab": {
          "base_uri": "https://localhost:8080/",
          "height": 295
        },
        "outputId": "258ff020-9157-4d13-e793-a3b5709fc59f"
      },
      "source": [
        "plt.scatter(X_test,y_test, color = 'red')\n",
        "#plt.scatter(X_train,regressor.predict(X_train),color = 'blue')\n",
        "plt.plot(X_train,regressor.predict(X_train),color = 'blue')\n",
        "plt.title('Salary vs Experience(Test Set)')\n",
        "plt.xlabel('Years of Experience')\n",
        "plt.ylabel('Salary')\n",
        "plt.show()"
      ],
      "execution_count": 22,
      "outputs": [
        {
          "output_type": "display_data",
          "data": {
            "image/png": "[encoded data removed]",
            "text/plain": [
              "<Figure size 432x288 with 1 Axes>"
            ]
          },
          "metadata": {
            "tags": [],
            "needs_background": "light"
          }
        }
      ]
    },
    {
      "cell_type": "code",
      "metadata": {
        "id": "3EvhMO6nOl5Q",
        "colab_type": "code",
        "colab": {
          "base_uri": "https://localhost:8080/",
          "height": 34
        },
        "outputId": "0be1ce8b-62ca-42fc-b5fa-eef96339c0bf"
      },
      "source": [
        "print(regressor.predict([[20]]))"
      ],
      "execution_count": 24,
      "outputs": [
        {
          "output_type": "stream",
          "text": [
            "[213031.60168521]\n"
          ],
          "name": "stdout"
        }
      ]
    },
    {
      "cell_type": "code",
      "metadata": {
        "id": "CwJwOHObOwSA",
        "colab_type": "code",
        "colab": {
          "base_uri": "https://localhost:8080/",
          "height": 50
        },
        "outputId": "135ffd20-a6fb-425e-e4e1-34b1db4d6467"
      },
      "source": [
        "print(regressor.coef_)\n",
        "print(regressor.intercept_)"
      ],
      "execution_count": 25,
      "outputs": [
        {
          "output_type": "stream",
          "text": [
            "[9312.57512673]\n",
            "26780.09915062818\n"
          ],
          "name": "stdout"
        }
      ]
    },
    {
      "cell_type": "markdown",
      "metadata": {
        "id": "MOImbbpCZ4yq",
        "colab_type": "text"
      },
      "source": [
        "So the interceptor value is 26780. Which suggests that any fresher (zero experience) would be getting around 26780 amount as salary.\n",
        "\n",
        "The coefficient for our model came out as 9312.57. It suggests that keeping all the other parameters constant, the change in one unit of the independent variable (years of exp.) will yield a change of 9312 units in salary."
      ]
    },
    {
      "cell_type": "markdown",
      "metadata": {
        "id": "yfFN-2AMYiKu",
        "colab_type": "text"
      },
      "source": [
        "Mean Absolute Error (MAE): It shows the mean of the absolute errors, which is the difference between predicted and actual.\n",
        "\n",
        "Mean Squared Error (MSE): It shows the mean value of squared errors.\n",
        "\n",
        "Root Mean Squared Error (RMSE): It shows the square root of the mean of the squared errors."
      ]
    },
    {
      "cell_type": "code",
      "metadata": {
        "id": "QI8qEmitZITB",
        "colab_type": "code",
        "colab": {
          "base_uri": "https://localhost:8080/",
          "height": 67
        },
        "outputId": "dd7adf5c-3a2e-412d-a3e0-5fefcf75ea2e"
      },
      "source": [
        "from sklearn import metrics\n",
        "print('MAE:', metrics.mean_absolute_error(y_test, y_pred))\n",
        "print('MSE:', metrics.mean_squared_error(y_test, y_pred))\n",
        "print('RMSE:', np.sqrt(metrics.mean_squared_error(y_test, y_pred)))"
      ],
      "execution_count": 28,
      "outputs": [
        {
          "output_type": "stream",
          "text": [
            "MAE: 2446.1723690465055\n",
            "MSE: 12823412.298126549\n",
            "RMSE: 3580.979237321343\n"
          ],
          "name": "stdout"
        }
      ]
    }
  ]
}